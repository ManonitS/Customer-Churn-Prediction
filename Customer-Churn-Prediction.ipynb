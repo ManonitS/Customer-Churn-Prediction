{
 "cells": [
  {
   "cell_type": "markdown",
   "metadata": {},
   "source": [
    "## Importing Libraries\n",
    "\n",
    "First of all, we will import knwon necessary libraries."
   ]
  },
  {
   "cell_type": "code",
   "execution_count": 1,
   "metadata": {},
   "outputs": [],
   "source": [
    "#import platform\n",
    "import pandas as pd\n",
    "import sklearn\n",
    "import numpy as np\n",
    "#import graphviz\n",
    "import seaborn as sns\n",
    "import matplotlib\n",
    "import matplotlib.pyplot as plt\n",
    "# import plotly.express as px\n",
    "# import plotly.graph_objects as go\n",
    "\n",
    "%matplotlib inline"
   ]
  },
  {
   "cell_type": "markdown",
   "metadata": {},
   "source": [
    "## Loading Dataset\n",
    "We use pandas to read the dataset and preprocess it."
   ]
  },
  {
   "cell_type": "code",
   "execution_count": null,
   "metadata": {},
   "outputs": [],
   "source": [
    "df = pd.read_csv('WA_Fn-UseC_-Telco-Customer-Churn.csv')\n",
    "df.shape"
   ]
  },
  {
   "cell_type": "markdown",
   "metadata": {},
   "source": [
    "## Exploratory Data Analysis"
   ]
  },
  {
   "cell_type": "code",
   "execution_count": null,
   "metadata": {
    "scrolled": false
   },
   "outputs": [],
   "source": [
    "df.head()"
   ]
  },
  {
   "cell_type": "code",
   "execution_count": null,
   "metadata": {
    "execution": {
     "iopub.execute_input": "2021-11-09T03:52:43.018231Z",
     "iopub.status.busy": "2021-11-09T03:52:43.017819Z",
     "iopub.status.idle": "2021-11-09T03:52:43.052282Z",
     "shell.execute_reply": "2021-11-09T03:52:43.051336Z",
     "shell.execute_reply.started": "2021-11-09T03:52:43.018175Z"
    }
   },
   "outputs": [],
   "source": [
    "df.tail()"
   ]
  },
  {
   "cell_type": "code",
   "execution_count": null,
   "metadata": {
    "execution": {
     "iopub.execute_input": "2021-11-09T03:52:43.079833Z",
     "iopub.status.busy": "2021-11-09T03:52:43.078995Z",
     "iopub.status.idle": "2021-11-09T03:52:43.090558Z",
     "shell.execute_reply": "2021-11-09T03:52:43.089462Z",
     "shell.execute_reply.started": "2021-11-09T03:52:43.079771Z"
    }
   },
   "outputs": [],
   "source": [
    "df.shape"
   ]
  },
  {
   "cell_type": "markdown",
   "metadata": {},
   "source": [
    "We have 2 types of features in the dataset: categorical (two or more values and without any order) and numerical. Most of the feature names are self-explanatory, except for:\n",
    " - Partner: whether the customer has a partner or not (Yes, No),\n",
    " - Dependents: whether the customer has dependents or not (Yes, No),\n",
    " - OnlineBackup: whether the customer has online backup or not (Yes, No, No internet service),\n",
    " - tenure: number of months the customer has stayed with the company,\n",
    " - MonthlyCharges: the amount charged to the customer monthly,\n",
    " - TotalCharges: the total amount charged to the customer.\n",
    " \n",
    "There are 7043 customers in the dataset and 19 features without customerID (non-informative) and Churn column (target variable). Most of the categorical features have 4 or less unique values."
   ]
  },
  {
   "cell_type": "code",
   "execution_count": null,
   "metadata": {
    "execution": {
     "iopub.execute_input": "2021-11-09T03:52:43.093002Z",
     "iopub.status.busy": "2021-11-09T03:52:43.092646Z",
     "iopub.status.idle": "2021-11-09T03:52:43.101858Z",
     "shell.execute_reply": "2021-11-09T03:52:43.100608Z",
     "shell.execute_reply.started": "2021-11-09T03:52:43.092944Z"
    }
   },
   "outputs": [],
   "source": [
    "df.size"
   ]
  },
  {
   "cell_type": "code",
   "execution_count": null,
   "metadata": {
    "execution": {
     "iopub.execute_input": "2021-11-09T03:52:43.055811Z",
     "iopub.status.busy": "2021-11-09T03:52:43.055339Z",
     "iopub.status.idle": "2021-11-09T03:52:43.065207Z",
     "shell.execute_reply": "2021-11-09T03:52:43.064137Z",
     "shell.execute_reply.started": "2021-11-09T03:52:43.055751Z"
    },
    "scrolled": true
   },
   "outputs": [],
   "source": [
    "df.dtypes"
   ]
  },
  {
   "cell_type": "markdown",
   "metadata": {},
   "source": [
    "Totalcharges is given as object datatype but it is float datatype"
   ]
  },
  {
   "cell_type": "code",
   "execution_count": null,
   "metadata": {
    "execution": {
     "iopub.execute_input": "2021-11-09T03:52:43.067769Z",
     "iopub.status.busy": "2021-11-09T03:52:43.067117Z",
     "iopub.status.idle": "2021-11-09T03:52:43.076918Z",
     "shell.execute_reply": "2021-11-09T03:52:43.075769Z",
     "shell.execute_reply.started": "2021-11-09T03:52:43.067723Z"
    }
   },
   "outputs": [],
   "source": [
    "df.columns"
   ]
  },
  {
   "cell_type": "code",
   "execution_count": null,
   "metadata": {
    "execution": {
     "iopub.execute_input": "2021-11-09T03:52:43.105839Z",
     "iopub.status.busy": "2021-11-09T03:52:43.104115Z",
     "iopub.status.idle": "2021-11-09T03:52:43.143193Z",
     "shell.execute_reply": "2021-11-09T03:52:43.142163Z",
     "shell.execute_reply.started": "2021-11-09T03:52:43.105792Z"
    }
   },
   "outputs": [],
   "source": [
    "df.info()"
   ]
  },
  {
   "cell_type": "code",
   "execution_count": null,
   "metadata": {
    "execution": {
     "iopub.execute_input": "2021-11-09T03:52:43.176933Z",
     "iopub.status.busy": "2021-11-09T03:52:43.176295Z",
     "iopub.status.idle": "2021-11-09T03:52:43.202429Z",
     "shell.execute_reply": "2021-11-09T03:52:43.201454Z",
     "shell.execute_reply.started": "2021-11-09T03:52:43.176874Z"
    }
   },
   "outputs": [],
   "source": [
    "df.isnull().sum()"
   ]
  },
  {
   "cell_type": "code",
   "execution_count": null,
   "metadata": {
    "execution": {
     "iopub.execute_input": "2021-11-09T03:52:43.205070Z",
     "iopub.status.busy": "2021-11-09T03:52:43.203846Z",
     "iopub.status.idle": "2021-11-09T03:52:43.233001Z",
     "shell.execute_reply": "2021-11-09T03:52:43.231899Z",
     "shell.execute_reply.started": "2021-11-09T03:52:43.205022Z"
    }
   },
   "outputs": [],
   "source": [
    "df.duplicated().sum()"
   ]
  },
  {
   "cell_type": "markdown",
   "metadata": {},
   "source": [
    "#### Basic Data Cleaning: \n",
    "As we have already observered in above cell that Totalcharges is given as object datatype but it is float datatype. We will fix it here."
   ]
  },
  {
   "cell_type": "code",
   "execution_count": null,
   "metadata": {},
   "outputs": [],
   "source": [
    "df['TotalCharges'].dtype"
   ]
  },
  {
   "cell_type": "code",
   "execution_count": 13,
   "metadata": {
    "execution": {
     "iopub.execute_input": "2021-11-09T03:52:43.290044Z",
     "iopub.status.busy": "2021-11-09T03:52:43.289662Z",
     "iopub.status.idle": "2021-11-09T03:52:43.301523Z",
     "shell.execute_reply": "2021-11-09T03:52:43.300033Z",
     "shell.execute_reply.started": "2021-11-09T03:52:43.289998Z"
    }
   },
   "outputs": [],
   "source": [
    "df['TotalCharges'] = pd.to_numeric(df['TotalCharges'],errors = 'coerce')"
   ]
  },
  {
   "cell_type": "code",
   "execution_count": null,
   "metadata": {},
   "outputs": [],
   "source": [
    "df['TotalCharges'].dtype"
   ]
  },
  {
   "cell_type": "code",
   "execution_count": 15,
   "metadata": {},
   "outputs": [],
   "source": [
    "categorical_features = [\n",
    "    \"gender\",\n",
    "    \"SeniorCitizen\",\n",
    "    \"Partner\",\n",
    "    \"Dependents\",\n",
    "    \"PhoneService\",\n",
    "    \"MultipleLines\",\n",
    "    \"InternetService\",\n",
    "    \"OnlineSecurity\",\n",
    "    \"OnlineBackup\",\n",
    "    \"DeviceProtection\",\n",
    "    \"TechSupport\",\n",
    "    \"StreamingTV\",\n",
    "    \"StreamingMovies\",\n",
    "    \"Contract\",\n",
    "    \"PaperlessBilling\",\n",
    "    \"PaymentMethod\",\n",
    "]\n",
    "numerical_features = [\"tenure\", \"MonthlyCharges\", \"TotalCharges\"]\n",
    "target = \"Churn\""
   ]
  },
  {
   "cell_type": "code",
   "execution_count": null,
   "metadata": {
    "execution": {
     "iopub.execute_input": "2021-11-09T03:52:43.235534Z",
     "iopub.status.busy": "2021-11-09T03:52:43.234920Z",
     "iopub.status.idle": "2021-11-09T03:52:43.262979Z",
     "shell.execute_reply": "2021-11-09T03:52:43.261969Z",
     "shell.execute_reply.started": "2021-11-09T03:52:43.235471Z"
    },
    "scrolled": true
   },
   "outputs": [],
   "source": [
    "df.skew(numeric_only= True)"
   ]
  },
  {
   "cell_type": "code",
   "execution_count": null,
   "metadata": {
    "execution": {
     "iopub.execute_input": "2021-11-09T03:52:43.269333Z",
     "iopub.status.busy": "2021-11-09T03:52:43.268524Z",
     "iopub.status.idle": "2021-11-09T03:52:43.287626Z",
     "shell.execute_reply": "2021-11-09T03:52:43.286653Z",
     "shell.execute_reply.started": "2021-11-09T03:52:43.269284Z"
    }
   },
   "outputs": [],
   "source": [
    "df.corr(numeric_only= True)"
   ]
  },
  {
   "cell_type": "markdown",
   "metadata": {},
   "source": [
    "### Feature distribution"
   ]
  },
  {
   "cell_type": "markdown",
   "metadata": {},
   "source": [
    "We plot distributions for numerical and categorical features to check for outliers and compare feature distributions with target variable."
   ]
  },
  {
   "cell_type": "markdown",
   "metadata": {},
   "source": [
    "#### Numerical features distribution\n",
    "\n",
    "Numeric summarizing techniques (mean, standard deviation, etc.) don't show us spikes, shapes of distributions and it is hard to observe outliers with it. That is the reason we use histograms."
   ]
  },
  {
   "cell_type": "code",
   "execution_count": null,
   "metadata": {},
   "outputs": [],
   "source": [
    "df[numerical_features].describe()"
   ]
  },
  {
   "cell_type": "code",
   "execution_count": null,
   "metadata": {},
   "outputs": [],
   "source": [
    "df[numerical_features].hist(bins=30, figsize=(10, 7))"
   ]
  },
  {
   "cell_type": "markdown",
   "metadata": {},
   "source": [
    "We look at distributions of numerical features in relation to the target variable. We can observe that the greater TotalCharges and tenure are the less is the probability of churn."
   ]
  },
  {
   "cell_type": "code",
   "execution_count": null,
   "metadata": {},
   "outputs": [],
   "source": [
    "fig, ax = plt.subplots(1, 3, figsize=(14, 4))\n",
    "df[df.Churn == \"No\"][numerical_features].hist(bins=30, color=\"blue\", alpha=0.5, ax=ax)\n",
    "df[df.Churn == \"Yes\"][numerical_features].hist(bins=30, color=\"red\", alpha=0.5, ax=ax)"
   ]
  },
  {
   "cell_type": "markdown",
   "metadata": {},
   "source": [
    "#### Categorical feature distribution\n",
    "\n",
    "To analyze categorical features, we use bar charts. We observe that Senior citizens and customers without phone service are less represented in the data."
   ]
  },
  {
   "cell_type": "code",
   "execution_count": null,
   "metadata": {},
   "outputs": [],
   "source": [
    "ROWS, COLS = 4, 4\n",
    "fig, ax = plt.subplots(ROWS,COLS, figsize=(19,19))\n",
    "row, col = 0, 0,\n",
    "for i, categorical_feature in enumerate(categorical_features):\n",
    "    if col == COLS - 1:\n",
    "        row += 1\n",
    "    col = i % COLS\n",
    "    df[categorical_feature].value_counts().plot(kind='bar', ax=ax[row, col]).set_title(categorical_feature)"
   ]
  },
  {
   "cell_type": "markdown",
   "metadata": {},
   "source": [
    "The next step is to look at categorical features in relation to the target variable. We do this only for contract feature. Users who have a month-to-month contract are more likely to churn than users with long term contracts."
   ]
  },
  {
   "cell_type": "code",
   "execution_count": null,
   "metadata": {},
   "outputs": [],
   "source": [
    "feature = 'Contract'\n",
    "fig, ax = plt.subplots(1, 2, figsize=(12, 4))\n",
    "df[df.Churn == \"No\"][feature].value_counts().plot(kind='bar', ax=ax[0]).set_title('not churned')\n",
    "df[df.Churn == \"Yes\"][feature].value_counts().plot(kind='bar', ax=ax[1]).set_title('churned')"
   ]
  },
  {
   "cell_type": "markdown",
   "metadata": {},
   "source": [
    "### Target variable distribution"
   ]
  },
  {
   "cell_type": "code",
   "execution_count": null,
   "metadata": {},
   "outputs": [],
   "source": [
    "df[target].value_counts().plot(kind='bar').set_title('churned')"
   ]
  },
  {
   "cell_type": "markdown",
   "metadata": {},
   "source": [
    "Target variable distribution shows that we are dealing with an imbalanced problem as there are many more non-churned as compare to churned users. The model would achieve high accuracy as it would mostly predict majority class - users who didn't churn in our example.\n",
    "\n",
    "Few things we can do to minimize the influence of imbalanced dataset:\n",
    "- resample data,\n",
    "- collect more samples,\n",
    "- use precision and recall as accuracy metrics."
   ]
  },
  {
   "cell_type": "markdown",
   "metadata": {},
   "source": [
    "## Outliers Analysis with IQR Method"
   ]
  },
  {
   "cell_type": "code",
   "execution_count": null,
   "metadata": {
    "execution": {
     "iopub.execute_input": "2021-11-09T03:53:14.876626Z",
     "iopub.status.busy": "2021-11-09T03:53:14.875430Z",
     "iopub.status.idle": "2021-11-09T03:53:14.900303Z",
     "shell.execute_reply": "2021-11-09T03:53:14.899071Z",
     "shell.execute_reply.started": "2021-11-09T03:53:14.876576Z"
    }
   },
   "outputs": [],
   "source": [
    "x = ['tenure','MonthlyCharges']\n",
    "def count_outliers(data,col):\n",
    "        q1 = data[col].quantile(0.25,interpolation='nearest')\n",
    "        q2 = data[col].quantile(0.5,interpolation='nearest')\n",
    "        q3 = data[col].quantile(0.75,interpolation='nearest')\n",
    "        q4 = data[col].quantile(1,interpolation='nearest')\n",
    "        IQR = q3 -q1\n",
    "        global LLP\n",
    "        global ULP\n",
    "        LLP = q1 - 1.5*IQR\n",
    "        ULP = q3 + 1.5*IQR\n",
    "        if data[col].min() > LLP and data[col].max() < ULP:\n",
    "            print(\"No outliers in\",i)\n",
    "        else:\n",
    "            print(\"There are outliers in\",i)\n",
    "            x = data[data[col]<LLP][col].size\n",
    "            y = data[data[col]>ULP][col].size\n",
    "            a.append(i)\n",
    "            print('Count of outliers are:',x+y)\n",
    "global a\n",
    "a = []\n",
    "for i in x:\n",
    "    count_outliers(df,i)"
   ]
  },
  {
   "cell_type": "markdown",
   "metadata": {},
   "source": [
    "## Cleaning and Transforming Data"
   ]
  },
  {
   "cell_type": "code",
   "execution_count": 25,
   "metadata": {
    "execution": {
     "iopub.execute_input": "2021-11-09T03:53:14.902614Z",
     "iopub.status.busy": "2021-11-09T03:53:14.902166Z",
     "iopub.status.idle": "2021-11-09T03:53:14.911726Z",
     "shell.execute_reply": "2021-11-09T03:53:14.910394Z",
     "shell.execute_reply.started": "2021-11-09T03:53:14.902565Z"
    }
   },
   "outputs": [],
   "source": [
    "df.drop(['customerID'],axis = 1,inplace = True)"
   ]
  },
  {
   "cell_type": "code",
   "execution_count": null,
   "metadata": {
    "execution": {
     "iopub.execute_input": "2021-11-09T03:53:14.914366Z",
     "iopub.status.busy": "2021-11-09T03:53:14.914012Z",
     "iopub.status.idle": "2021-11-09T03:53:14.952158Z",
     "shell.execute_reply": "2021-11-09T03:53:14.951160Z",
     "shell.execute_reply.started": "2021-11-09T03:53:14.914319Z"
    }
   },
   "outputs": [],
   "source": [
    "df.head()"
   ]
  },
  {
   "cell_type": "markdown",
   "metadata": {},
   "source": [
    "#### Dropped customerID because it is not needed"
   ]
  },
  {
   "cell_type": "markdown",
   "metadata": {},
   "source": [
    "### On Hot Encoding"
   ]
  },
  {
   "cell_type": "code",
   "execution_count": 27,
   "metadata": {
    "execution": {
     "iopub.execute_input": "2021-11-09T03:53:14.954613Z",
     "iopub.status.busy": "2021-11-09T03:53:14.953998Z",
     "iopub.status.idle": "2021-11-09T03:53:15.014837Z",
     "shell.execute_reply": "2021-11-09T03:53:15.013920Z",
     "shell.execute_reply.started": "2021-11-09T03:53:14.954564Z"
    }
   },
   "outputs": [],
   "source": [
    "df1=pd.get_dummies(data=df,columns=['gender', 'Partner', 'Dependents', \n",
    "       'PhoneService', 'MultipleLines', 'InternetService', 'OnlineSecurity',\n",
    "       'OnlineBackup', 'DeviceProtection', 'TechSupport', 'StreamingTV',\n",
    "       'StreamingMovies', 'Contract', 'PaperlessBilling', 'PaymentMethod', 'Churn'], drop_first=True)"
   ]
  },
  {
   "cell_type": "code",
   "execution_count": null,
   "metadata": {
    "scrolled": true
   },
   "outputs": [],
   "source": [
    "df1.head()"
   ]
  },
  {
   "cell_type": "code",
   "execution_count": null,
   "metadata": {
    "scrolled": true
   },
   "outputs": [],
   "source": [
    "df1.columns"
   ]
  },
  {
   "cell_type": "markdown",
   "metadata": {},
   "source": [
    "### Rearranging Columns"
   ]
  },
  {
   "cell_type": "code",
   "execution_count": 30,
   "metadata": {
    "_kg_hide-input": true,
    "execution": {
     "iopub.execute_input": "2021-11-09T03:53:15.018322Z",
     "iopub.status.busy": "2021-11-09T03:53:15.017423Z",
     "iopub.status.idle": "2021-11-09T03:53:15.028617Z",
     "shell.execute_reply": "2021-11-09T03:53:15.027469Z",
     "shell.execute_reply.started": "2021-11-09T03:53:15.018273Z"
    }
   },
   "outputs": [],
   "source": [
    "df1 = df1[['SeniorCitizen', 'tenure', 'MonthlyCharges', 'TotalCharges',\n",
    "        'gender_Male', 'Partner_Yes', 'Dependents_Yes',\n",
    "       'PhoneService_Yes', 'MultipleLines_No phone service',\n",
    "       'MultipleLines_Yes', 'InternetService_Fiber optic',\n",
    "       'InternetService_No', 'OnlineSecurity_No internet service',\n",
    "       'OnlineSecurity_Yes', 'OnlineBackup_No internet service',\n",
    "       'OnlineBackup_Yes', 'DeviceProtection_No internet service',\n",
    "       'DeviceProtection_Yes', 'TechSupport_No internet service',\n",
    "       'TechSupport_Yes', 'StreamingTV_No internet service', 'StreamingTV_Yes',\n",
    "       'StreamingMovies_No internet service', 'StreamingMovies_Yes',\n",
    "       'Contract_One year', 'Contract_Two year', 'PaperlessBilling_Yes',\n",
    "       'PaymentMethod_Credit card (automatic)',\n",
    "       'PaymentMethod_Electronic check', 'PaymentMethod_Mailed check','Churn_Yes']]"
   ]
  },
  {
   "cell_type": "code",
   "execution_count": null,
   "metadata": {
    "execution": {
     "iopub.execute_input": "2021-11-09T03:53:15.031710Z",
     "iopub.status.busy": "2021-11-09T03:53:15.030868Z",
     "iopub.status.idle": "2021-11-09T03:53:15.064625Z",
     "shell.execute_reply": "2021-11-09T03:53:15.063618Z",
     "shell.execute_reply.started": "2021-11-09T03:53:15.031661Z"
    }
   },
   "outputs": [],
   "source": [
    "df1.head()"
   ]
  },
  {
   "cell_type": "code",
   "execution_count": null,
   "metadata": {},
   "outputs": [],
   "source": [
    "df1.shape"
   ]
  },
  {
   "cell_type": "code",
   "execution_count": 33,
   "metadata": {
    "execution": {
     "iopub.execute_input": "2021-11-09T03:53:15.067076Z",
     "iopub.status.busy": "2021-11-09T03:53:15.066454Z",
     "iopub.status.idle": "2021-11-09T03:53:15.080022Z",
     "shell.execute_reply": "2021-11-09T03:53:15.078954Z",
     "shell.execute_reply.started": "2021-11-09T03:53:15.067027Z"
    }
   },
   "outputs": [],
   "source": [
    "from sklearn.impute import SimpleImputer\n",
    "\n",
    "# The imputer will replace missing values with the mean of the non-missing values for the respective columns\n",
    "\n",
    "imputer = SimpleImputer(missing_values=np.nan, strategy=\"mean\")\n",
    "\n",
    "df1.TotalCharges = imputer.fit_transform(df1[\"TotalCharges\"].values.reshape(-1, 1))"
   ]
  },
  {
   "cell_type": "markdown",
   "metadata": {},
   "source": [
    "### Feature Scaling"
   ]
  },
  {
   "cell_type": "code",
   "execution_count": 34,
   "metadata": {
    "execution": {
     "iopub.execute_input": "2021-11-09T03:53:15.082462Z",
     "iopub.status.busy": "2021-11-09T03:53:15.082111Z",
     "iopub.status.idle": "2021-11-09T03:53:15.103525Z",
     "shell.execute_reply": "2021-11-09T03:53:15.102463Z",
     "shell.execute_reply.started": "2021-11-09T03:53:15.082399Z"
    }
   },
   "outputs": [],
   "source": [
    "from sklearn.preprocessing import StandardScaler\n",
    "scaler = StandardScaler()"
   ]
  },
  {
   "cell_type": "code",
   "execution_count": 35,
   "metadata": {},
   "outputs": [],
   "source": [
    "scaler.fit(df1.drop(['Churn_Yes'],axis = 1))\n",
    "scaled_features = scaler.transform(df1.drop('Churn_Yes',axis = 1))"
   ]
  },
  {
   "cell_type": "markdown",
   "metadata": {},
   "source": [
    "### Feature Selection"
   ]
  },
  {
   "cell_type": "code",
   "execution_count": 36,
   "metadata": {
    "execution": {
     "iopub.execute_input": "2021-11-09T03:53:15.106000Z",
     "iopub.status.busy": "2021-11-09T03:53:15.105329Z",
     "iopub.status.idle": "2021-11-09T03:53:15.116525Z",
     "shell.execute_reply": "2021-11-09T03:53:15.115285Z",
     "shell.execute_reply.started": "2021-11-09T03:53:15.105952Z"
    }
   },
   "outputs": [],
   "source": [
    "from sklearn.model_selection import train_test_split\n",
    "X = scaled_features\n",
    "Y = df1['Churn_Yes']\n",
    "X_train,X_test,Y_train,Y_test = train_test_split(X,Y,test_size = 0.3,random_state=44)"
   ]
  },
  {
   "cell_type": "markdown",
   "metadata": {},
   "source": [
    "## Prediction using Logistic Regression"
   ]
  },
  {
   "cell_type": "code",
   "execution_count": null,
   "metadata": {
    "execution": {
     "iopub.execute_input": "2021-11-09T03:53:42.228616Z",
     "iopub.status.busy": "2021-11-09T03:53:42.227007Z",
     "iopub.status.idle": "2021-11-09T03:53:42.319319Z",
     "shell.execute_reply": "2021-11-09T03:53:42.318141Z",
     "shell.execute_reply.started": "2021-11-09T03:53:42.228565Z"
    }
   },
   "outputs": [],
   "source": [
    "from sklearn.linear_model import LogisticRegression\n",
    "from sklearn.metrics import classification_report,accuracy_score ,confusion_matrix\n",
    "\n",
    "logmodel = LogisticRegression()\n",
    "logmodel.fit(X_train,Y_train)"
   ]
  },
  {
   "cell_type": "code",
   "execution_count": 38,
   "metadata": {
    "execution": {
     "iopub.execute_input": "2021-11-09T03:53:42.328549Z",
     "iopub.status.busy": "2021-11-09T03:53:42.325493Z",
     "iopub.status.idle": "2021-11-09T03:53:42.338505Z",
     "shell.execute_reply": "2021-11-09T03:53:42.337265Z",
     "shell.execute_reply.started": "2021-11-09T03:53:42.328497Z"
    }
   },
   "outputs": [],
   "source": [
    "predLR = logmodel.predict(X_test)"
   ]
  },
  {
   "cell_type": "code",
   "execution_count": null,
   "metadata": {},
   "outputs": [],
   "source": [
    "predLR"
   ]
  },
  {
   "cell_type": "code",
   "execution_count": null,
   "metadata": {},
   "outputs": [],
   "source": [
    "Y_test"
   ]
  },
  {
   "cell_type": "code",
   "execution_count": null,
   "metadata": {
    "execution": {
     "iopub.execute_input": "2021-11-09T03:53:42.348885Z",
     "iopub.status.busy": "2021-11-09T03:53:42.344785Z",
     "iopub.status.idle": "2021-11-09T03:53:42.381860Z",
     "shell.execute_reply": "2021-11-09T03:53:42.380863Z",
     "shell.execute_reply.started": "2021-11-09T03:53:42.348824Z"
    },
    "scrolled": false
   },
   "outputs": [],
   "source": [
    "print(classification_report(Y_test, predLR))"
   ]
  },
  {
   "cell_type": "code",
   "execution_count": null,
   "metadata": {},
   "outputs": [],
   "source": [
    "# calculate the classification report\n",
    "report = classification_report(Y_test, predLR, target_names=['Churn_No', 'Churn_Yes'])\n",
    "\n",
    "# split the report into lines\n",
    "lines = report.split('\\n')\n",
    "\n",
    "# split each line into parts\n",
    "parts = [line.split() for line in lines[2:-5]]\n",
    "\n",
    "# extract the metrics for each class\n",
    "class_metrics = dict()\n",
    "for part in parts:\n",
    "    class_metrics[part[0]] = {'precision': float(part[1]), 'recall': float(part[2]), 'f1-score': float(part[3]), 'support': int(part[4])}\n",
    "\n",
    "# create a bar chart for each metric\n",
    "fig, ax = plt.subplots(1, 4, figsize=(12, 4))\n",
    "metrics = ['precision', 'recall', 'f1-score', 'support']\n",
    "for i, metric in enumerate(metrics):\n",
    "    ax[i].bar(class_metrics.keys(), [class_metrics[key][metric] for key in class_metrics.keys()])\n",
    "    ax[i].set_title(metric)\n",
    "\n",
    "# display the plot\n",
    "plt.show()"
   ]
  },
  {
   "cell_type": "code",
   "execution_count": 43,
   "metadata": {
    "scrolled": false
   },
   "outputs": [],
   "source": [
    "confusion_matrix_LR = confusion_matrix(Y_test, predLR)"
   ]
  },
  {
   "cell_type": "code",
   "execution_count": null,
   "metadata": {},
   "outputs": [],
   "source": [
    "# create a heatmap of the matrix using matshow()\n",
    "\n",
    "plt.matshow(confusion_matrix(Y_test, predLR))\n",
    "\n",
    "# add labels for the x and y axes\n",
    "plt.xlabel('Predicted Class')\n",
    "plt.ylabel('Actual Class')\n",
    "\n",
    "for i in range(2):\n",
    "    for j in range(2):\n",
    "        plt.text(j, i, confusion_matrix_LR[i, j], ha='center', va='center')\n",
    "\n",
    "\n",
    "# Add custom labels for x and y ticks\n",
    "plt.xticks([0, 1], [\"Not Churned\", \"Churned\"])\n",
    "plt.yticks([0, 1], [\"Not Churned\", \"Churned\"])\n",
    "plt.show()"
   ]
  },
  {
   "cell_type": "code",
   "execution_count": null,
   "metadata": {
    "execution": {
     "iopub.execute_input": "2021-11-09T03:53:42.390863Z",
     "iopub.status.busy": "2021-11-09T03:53:42.388123Z",
     "iopub.status.idle": "2021-11-09T03:53:42.405849Z",
     "shell.execute_reply": "2021-11-09T03:53:42.404464Z",
     "shell.execute_reply.started": "2021-11-09T03:53:42.390782Z"
    },
    "scrolled": true
   },
   "outputs": [],
   "source": [
    "logmodel.score(X_train, Y_train)"
   ]
  },
  {
   "cell_type": "code",
   "execution_count": null,
   "metadata": {},
   "outputs": [],
   "source": [
    "accuracy_score(Y_test, predLR)"
   ]
  },
  {
   "cell_type": "markdown",
   "metadata": {},
   "source": [
    "### Prediction using Decision Tree Classifier"
   ]
  },
  {
   "cell_type": "code",
   "execution_count": 53,
   "metadata": {
    "execution": {
     "iopub.execute_input": "2021-11-09T03:53:42.414719Z",
     "iopub.status.busy": "2021-11-09T03:53:42.412027Z",
     "iopub.status.idle": "2021-11-09T03:53:42.465457Z",
     "shell.execute_reply": "2021-11-09T03:53:42.464395Z",
     "shell.execute_reply.started": "2021-11-09T03:53:42.414670Z"
    }
   },
   "outputs": [],
   "source": [
    "from sklearn.tree import DecisionTreeClassifier\n",
    "\n",
    "dtc = DecisionTreeClassifier()\n",
    "\n",
    "dtc.fit(X_train, Y_train)\n",
    "y_pred_dtc = dtc.predict(X_test)"
   ]
  },
  {
   "cell_type": "code",
   "execution_count": null,
   "metadata": {
    "execution": {
     "iopub.execute_input": "2021-11-09T03:53:42.485884Z",
     "iopub.status.busy": "2021-11-09T03:53:42.485243Z",
     "iopub.status.idle": "2021-11-09T03:53:42.506139Z",
     "shell.execute_reply": "2021-11-09T03:53:42.505038Z",
     "shell.execute_reply.started": "2021-11-09T03:53:42.485837Z"
    }
   },
   "outputs": [],
   "source": [
    "print(classification_report(Y_test, y_pred_dtc))"
   ]
  },
  {
   "cell_type": "code",
   "execution_count": 55,
   "metadata": {
    "execution": {
     "iopub.execute_input": "2021-11-09T03:53:42.468239Z",
     "iopub.status.busy": "2021-11-09T03:53:42.467658Z",
     "iopub.status.idle": "2021-11-09T03:53:42.483494Z",
     "shell.execute_reply": "2021-11-09T03:53:42.482335Z",
     "shell.execute_reply.started": "2021-11-09T03:53:42.468197Z"
    }
   },
   "outputs": [],
   "source": [
    "confusion_matrix_dtc = confusion_matrix(Y_test, y_pred_dtc)"
   ]
  },
  {
   "cell_type": "code",
   "execution_count": null,
   "metadata": {},
   "outputs": [],
   "source": [
    "# create a heatmap of the matrix using matshow()\n",
    "\n",
    "plt.matshow(confusion_matrix_dtc)\n",
    "\n",
    "# add labels for the x and y axes\n",
    "plt.xlabel('Predicted Class')\n",
    "plt.ylabel('Actual Class')\n",
    "\n",
    "for i in range(2):\n",
    "    for j in range(2):\n",
    "        plt.text(j, i, confusion_matrix_dtc[i, j], ha='center', va='center')\n",
    "\n",
    "\n",
    "# Add custom labels for x and y ticks\n",
    "plt.xticks([0, 1], [\"Not Churned\", \"Churned\"])\n",
    "plt.yticks([0, 1], [\"Not Churned\", \"Churned\"])\n",
    "plt.show()"
   ]
  },
  {
   "cell_type": "code",
   "execution_count": null,
   "metadata": {
    "scrolled": true
   },
   "outputs": [],
   "source": [
    "dtc.score(X_train,Y_train)"
   ]
  },
  {
   "cell_type": "code",
   "execution_count": null,
   "metadata": {
    "execution": {
     "iopub.execute_input": "2021-11-09T03:53:42.512579Z",
     "iopub.status.busy": "2021-11-09T03:53:42.511696Z",
     "iopub.status.idle": "2021-11-09T03:53:42.524237Z",
     "shell.execute_reply": "2021-11-09T03:53:42.523090Z",
     "shell.execute_reply.started": "2021-11-09T03:53:42.512525Z"
    },
    "scrolled": true
   },
   "outputs": [],
   "source": [
    "accuracy_score(Y_test, y_pred_dtc)"
   ]
  }
 ],
 "metadata": {
  "kernelspec": {
   "display_name": "Python 3 (ipykernel)",
   "language": "python",
   "name": "python3"
  },
  "language_info": {
   "codemirror_mode": {
    "name": "ipython",
    "version": 3
   },
   "file_extension": ".py",
   "mimetype": "text/x-python",
   "name": "python",
   "nbconvert_exporter": "python",
   "pygments_lexer": "ipython3",
   "version": "3.10.9"
  }
 },
 "nbformat": 4,
 "nbformat_minor": 4
}
